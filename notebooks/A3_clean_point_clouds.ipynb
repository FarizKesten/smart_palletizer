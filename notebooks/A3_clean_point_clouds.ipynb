{
 "cells": [
  {
   "cell_type": "code",
   "execution_count": null,
   "id": "bd724cf2",
   "metadata": {},
   "outputs": [],
   "source": [
    "%matplotlib inline\n",
    "\n",
    "import sys\n",
    "import os\n",
    "import cv2 as cv\n",
    "import numpy as np\n",
    "import matplotlib.pyplot as plt\n",
    "import open3d as o3d\n",
    "\n",
    "project_root = os.path.abspath(os.path.join(os.getcwd(), \"..\"))\n",
    "if project_root not in sys.path:\n",
    "    sys.path.append(project_root)\n",
    "\n",
    "from lib.planar_patch_detector import PlanarPatchDetector\n",
    "from lib.masked_yolo_detector import MaskedYOLODetector\n",
    "from lib.utils import get_camera_intrinsics"
   ]
  },
  {
   "cell_type": "code",
   "execution_count": null,
   "id": "2461e502",
   "metadata": {},
   "outputs": [],
   "source": [
    "# Load depth image\n",
    "depth_path = \"../data/medium_box/raw_depth.png\"\n",
    "depth_image = cv.imread(depth_path, cv.IMREAD_ANYDEPTH)\n",
    "\n",
    "if depth_image is None:\n",
    "    raise FileNotFoundError(f\"Failed to load depth image from {depth_path}\")\n",
    "\n",
    "# read camera intrinsics\n",
    "intrinsics_path = \"../data/small_box/intrinsics.json\"\n",
    "camera_intrinsics = get_camera_intrinsics(intrinsics_path)\n",
    "\n"
   ]
  },
  {
   "cell_type": "code",
   "execution_count": null,
   "id": "60b7ebf4",
   "metadata": {},
   "outputs": [],
   "source": [
    "# run masked yolo detector\n",
    "color_image = cv.imread(\"../data/small_box/color_image.png\")\n",
    "depth_image = cv.imread(\"../data/small_box/raw_depth.png\", cv.IMREAD_ANYDEPTH)\n",
    "\n",
    "yolo_detector = MaskedYOLODetector(\n",
    "        color_image=color_image,\n",
    "        depth_image=depth_image,\n",
    "        model_path=\"/workspace/data/model/best.pt\"\n",
    "    )\n",
    "yolo_detector.set_box_area(min_area=2000, max_area=10000)\n",
    "yolo_detector.create_mask()\n",
    "boxes = yolo_detector.run_detection(visualize=True)\n",
    "yolo_detector.print_box_details()"
   ]
  },
  {
   "cell_type": "code",
   "execution_count": null,
   "id": "c1d70e5d",
   "metadata": {},
   "outputs": [],
   "source": [
    "print(boxes)"
   ]
  },
  {
   "cell_type": "code",
   "execution_count": null,
   "id": "66b67374",
   "metadata": {},
   "outputs": [],
   "source": [
    "known_dims = {\n",
    "        'small_box': [0.340, 0.250, 0.095],\n",
    "        'medium_box': [0.255, 0.155, 0.100]\n",
    "    }\n",
    "\n",
    "# run planar patch detector\n",
    "planar_detector = PlanarPatchDetector(\n",
    "    color_img=color_image,\n",
    "    depth_img=depth_image,\n",
    "    intrinsics=camera_intrinsics,\n",
    "    known_dims=known_dims\n",
    ")\n",
    "\n",
    "planar_detector.set_yolo_detections(boxes)\n",
    "#run_interactive_slider(planar_detector)\n",
    "\n",
    "# planar_detector.process_all(visualize=True,\n",
    "#                             visualize_individual=True,\n",
    "#                             mode='2d',\n",
    "#                             normal_variance_threshold_deg=60,\n",
    "#                             coplanarity_deg=60,\n",
    "#                             min_plane_edge_length=0.03,\n",
    "#                             min_num_points=20,\n",
    "#                             knn=50\n",
    "#                         )\n",
    "\n",
    "planar_detector.process_all(\n",
    "    visualize=False,\n",
    "    visualize_individual=True,\n",
    "    mode='2d',\n",
    "    normal_variance_threshold_deg=60,\n",
    "    coplanarity_deg=60,\n",
    "    min_plane_edge_length=0.03,\n",
    "    min_num_points=20,\n",
    "    knn=50,\n",
    "    voxel_size=0.01,  # Change voxel size\n",
    "    distance_threshold=0.005,  # Change the RANSAC distance threshold\n",
    "    nb_neighbors=30,  # Change number of neighbors for outlier removal\n",
    "    std_ratio=1.5, # Adjust standard deviation ratio for outlier removal\n",
    "    min_plane_area=0.00003  # Minimum area of the detected plane\n",
    ")\n",
    "\n",
    "\n",
    "# planar_detector.process_all(visualize=False, visualize_individual=False)\n",
    "\n",
    "results = planar_detector.get_results()\n",
    "\n"
   ]
  },
  {
   "cell_type": "code",
   "execution_count": null,
   "id": "62a6bc19",
   "metadata": {},
   "outputs": [],
   "source": [
    "print(results)"
   ]
  },
  {
   "cell_type": "code",
   "execution_count": null,
   "id": "0f6f9727",
   "metadata": {},
   "outputs": [],
   "source": [
    "planar_detector.visualize_colored_surfaces()"
   ]
  },
  {
   "cell_type": "code",
   "execution_count": null,
   "id": "909675ce",
   "metadata": {},
   "outputs": [],
   "source": []
  }
 ],
 "metadata": {
  "kernelspec": {
   "display_name": "rosenv",
   "language": "python",
   "name": "python3"
  },
  "language_info": {
   "codemirror_mode": {
    "name": "ipython",
    "version": 3
   },
   "file_extension": ".py",
   "mimetype": "text/x-python",
   "name": "python",
   "nbconvert_exporter": "python",
   "pygments_lexer": "ipython3",
   "version": "3.8.20"
  }
 },
 "nbformat": 4,
 "nbformat_minor": 5
}
